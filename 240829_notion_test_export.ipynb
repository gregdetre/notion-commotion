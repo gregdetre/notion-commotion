{
 "cells": [
  {
   "cell_type": "code",
   "execution_count": 1,
   "metadata": {},
   "outputs": [
    {
     "name": "stdout",
     "output_type": "stream",
     "text": [
      "The autoreload extension is already loaded. To reload it, use:\n",
      "  %reload_ext autoreload\n"
     ]
    }
   ],
   "source": [
    "%load_ext autoreload\n",
    "%autoreload 2\n",
    "from IPython.display import display\n",
    "import os\n",
    "from pathlib import Path\n",
    "from pprint import pprint\n",
    "import sys\n",
    "\n",
    "from gdutils.dt import dt_str\n",
    "# from notion_api import get_blocks, get_id_from_url\n",
    "from notion_api import get_id_from_url\n",
    "from notion_commotion import *\n",
    "from _secrets import NOTION_API_KEY\n",
    "from utils import get_output_dir\n",
    "\n",
    "# https://claude.ai/chat/dd788040-003a-4ca6-8569-7d6588e4523e\n",
    "\n",
    "FRONTPAGE_NOTION_URL = (\n",
    "    # \"https://www.notion.so/gregdetre-www/Greg-Detre-23436b4ed78942aa8b4932c0b12ebe5d\"\n",
    "    \"https://www.notion.so/gregdetre-www/TEST-site-UNSHARED-1f8d8bbf67b240faad0dd2075dff3bb0\"\n",
    ")\n",
    "# FRONTPAGE_SITE_URL = (\n",
    "#     \"https://gregdetre-www.notion.site/Greg-Detre-23436b4ed78942aa8b4932c0b12ebe5d\"\n",
    "# )\n",
    "FRONTPAGE_NOTION_ID = get_id_from_url(FRONTPAGE_NOTION_URL)\n",
    "\n",
    "DATABASE_NOTION_URL = (\n",
    "    # \"https://www.notion.so/gregdetre-www/Blog-cbadf8ca01994be28e4d1164ce787189\"\n",
    "    \"https://www.notion.so/gregdetre-www/TEST-database-30b6ac5e03c449dc9ea3a09c01c42611\"\n",
    ")\n",
    "DATABASE_NOTION_ID = get_id_from_url(DATABASE_NOTION_URL)\n",
    "\n",
    "notion = Client(auth=NOTION_API_KEY)\n",
    "blocks = get_blocks(notion, FRONTPAGE_NOTION_ID) # , verbose=1)"
   ]
  },
  {
   "cell_type": "code",
   "execution_count": 2,
   "metadata": {},
   "outputs": [
    {
     "name": "stdout",
     "output_type": "stream",
     "text": [
      "Created file: TEST_frontdoor_UNSHARED_1f8d8bbf67b240faad0dd2075dff3bb0.html\n",
      "Created file: TEST_Page_1_280e094c-eb30-4809-be78-f26ff7d9c559.html\n",
      "Created file: TEST_database_30b6ac5e-03c4-49dc-9ea3-a09c01c42611.html\n",
      "Processing database: TEST database\n",
      "Processing database item: TEST Small wins (list)\n",
      "Created file: TEST_Small_wins_list_ccc822fa-06e2-4be0-92c1-8467c4c76c39.html\n",
      "Processing database item: TEST Douglas Adam's favourite pieces of information\n",
      "Created file: TEST_Douglas_Adams_favourite_pieces_of_information_63d0d281-7458-4635-85e3-39db0e663345.html\n"
     ]
    }
   ],
   "source": [
    "OUTPUT_DIR = get_output_dir()\n",
    "\n",
    "process_page_recursively(notion, FRONTPAGE_NOTION_ID, OUTPUT_DIR)"
   ]
  }
 ],
 "metadata": {
  "kernelspec": {
   "display_name": "experim__wordpress_to_notion",
   "language": "python",
   "name": "python3"
  },
  "language_info": {
   "codemirror_mode": {
    "name": "ipython",
    "version": 3
   },
   "file_extension": ".py",
   "mimetype": "text/x-python",
   "name": "python",
   "nbconvert_exporter": "python",
   "pygments_lexer": "ipython3",
   "version": "3.12.3"
  }
 },
 "nbformat": 4,
 "nbformat_minor": 2
}
