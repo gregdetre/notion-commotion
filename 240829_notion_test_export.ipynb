{
 "cells": [
  {
   "cell_type": "code",
   "execution_count": 10,
   "metadata": {},
   "outputs": [
    {
     "name": "stdout",
     "output_type": "stream",
     "text": [
      "The autoreload extension is already loaded. To reload it, use:\n",
      "  %reload_ext autoreload\n"
     ]
    }
   ],
   "source": [
    "%load_ext autoreload\n",
    "%autoreload 2\n",
    "from IPython.display import display\n",
    "import os\n",
    "from pathlib import Path\n",
    "from pprint import pprint\n",
    "import sys\n",
    "\n",
    "from gdutils.dt import dt_str\n",
    "# from notion_api import get_blocks, get_id_from_url\n",
    "from notion_api import get_id_from_url\n",
    "from notion_commotion import *\n",
    "from _secrets import NOTION_API_KEY\n",
    "from utils import get_output_dir\n",
    "\n",
    "# https://claude.ai/chat/dd788040-003a-4ca6-8569-7d6588e4523e\n",
    "\n",
    "FRONTPAGE_NOTION_URL = (\n",
    "    # \"https://www.notion.so/gregdetre-www/Greg-Detre-23436b4ed78942aa8b4932c0b12ebe5d\"\n",
    "    \"https://www.notion.so/gregdetre-www/TEST-site-UNSHARED-1f8d8bbf67b240faad0dd2075dff3bb0\"\n",
    ")\n",
    "# FRONTPAGE_SITE_URL = (\n",
    "#     \"https://gregdetre-www.notion.site/Greg-Detre-23436b4ed78942aa8b4932c0b12ebe5d\"\n",
    "# )\n",
    "FRONTPAGE_NOTION_ID = get_id_from_url(FRONTPAGE_NOTION_URL)\n",
    "\n",
    "DATABASE_NOTION_URL = (\n",
    "    # \"https://www.notion.so/gregdetre-www/Blog-cbadf8ca01994be28e4d1164ce787189\"\n",
    "    \"https://www.notion.so/gregdetre-www/TEST-database-30b6ac5e03c449dc9ea3a09c01c42611\"\n",
    ")\n",
    "DATABASE_NOTION_ID = get_id_from_url(DATABASE_NOTION_URL)\n",
    "\n",
    "notion = Client(auth=NOTION_API_KEY)\n",
    "blocks = get_blocks(notion, FRONTPAGE_NOTION_ID) # , verbose=1)"
   ]
  },
  {
   "cell_type": "code",
   "execution_count": 14,
   "metadata": {},
   "outputs": [
    {
     "name": "stdout",
     "output_type": "stream",
     "text": [
      "Created file: TEST_frontdoor_UNSHARED_1f8d8bbf67b240faad0dd2075dff3bb0.html\n",
      "Created file: TEST_Page_1_280e094c-eb30-4809-be78-f26ff7d9c559.html\n",
      "Created file: TEST_database_30b6ac5e-03c4-49dc-9ea3-a09c01c42611.html\n",
      "Processing database: TEST database\n",
      "Processing database item: TEST Small wins (list)\n"
     ]
    },
    {
     "ename": "TypeError",
     "evalue": "string indices must be integers, not 'str'",
     "output_type": "error",
     "traceback": [
      "\u001b[0;31m---------------------------------------------------------------------------\u001b[0m",
      "\u001b[0;31mTypeError\u001b[0m                                 Traceback (most recent call last)",
      "Cell \u001b[0;32mIn[14], line 3\u001b[0m\n\u001b[1;32m      1\u001b[0m OUTPUT_DIR \u001b[38;5;241m=\u001b[39m get_output_dir()\n\u001b[0;32m----> 3\u001b[0m \u001b[43mprocess_page_recursively\u001b[49m\u001b[43m(\u001b[49m\u001b[43mnotion\u001b[49m\u001b[43m,\u001b[49m\u001b[43m \u001b[49m\u001b[43mFRONTPAGE_NOTION_ID\u001b[49m\u001b[43m,\u001b[49m\u001b[43m \u001b[49m\u001b[43mOUTPUT_DIR\u001b[49m\u001b[43m)\u001b[49m\n",
      "File \u001b[0;32m~/Dropbox/dev/experim/notion-commotion/notion_claude.py:447\u001b[0m, in \u001b[0;36mprocess_page_recursively\u001b[0;34m(notion, page_id, output_dir, database_properties)\u001b[0m\n\u001b[1;32m    445\u001b[0m \u001b[38;5;28;01mif\u001b[39;00m block[\u001b[38;5;124m\"\u001b[39m\u001b[38;5;124mtype\u001b[39m\u001b[38;5;124m\"\u001b[39m] \u001b[38;5;241m==\u001b[39m \u001b[38;5;124m\"\u001b[39m\u001b[38;5;124mchild_page\u001b[39m\u001b[38;5;124m\"\u001b[39m:\n\u001b[1;32m    446\u001b[0m     child_page_id \u001b[38;5;241m=\u001b[39m block[\u001b[38;5;124m\"\u001b[39m\u001b[38;5;124mid\u001b[39m\u001b[38;5;124m\"\u001b[39m]\n\u001b[0;32m--> 447\u001b[0m     \u001b[43mprocess_page_recursively\u001b[49m\u001b[43m(\u001b[49m\u001b[43mnotion\u001b[49m\u001b[43m,\u001b[49m\u001b[43m \u001b[49m\u001b[43mchild_page_id\u001b[49m\u001b[43m,\u001b[49m\u001b[43m \u001b[49m\u001b[43moutput_dir\u001b[49m\u001b[43m)\u001b[49m\n\u001b[1;32m    448\u001b[0m \u001b[38;5;28;01melif\u001b[39;00m block[\u001b[38;5;124m\"\u001b[39m\u001b[38;5;124mtype\u001b[39m\u001b[38;5;124m\"\u001b[39m] \u001b[38;5;241m==\u001b[39m \u001b[38;5;124m\"\u001b[39m\u001b[38;5;124mchild_database\u001b[39m\u001b[38;5;124m\"\u001b[39m:\n\u001b[1;32m    449\u001b[0m     process_database(notion, block[\u001b[38;5;124m\"\u001b[39m\u001b[38;5;124mid\u001b[39m\u001b[38;5;124m\"\u001b[39m], output_dir)\n",
      "File \u001b[0;32m~/Dropbox/dev/experim/notion-commotion/notion_claude.py:449\u001b[0m, in \u001b[0;36mprocess_page_recursively\u001b[0;34m(notion, page_id, output_dir, database_properties)\u001b[0m\n\u001b[1;32m    447\u001b[0m     process_page_recursively(notion, child_page_id, output_dir)\n\u001b[1;32m    448\u001b[0m \u001b[38;5;28;01melif\u001b[39;00m block[\u001b[38;5;124m\"\u001b[39m\u001b[38;5;124mtype\u001b[39m\u001b[38;5;124m\"\u001b[39m] \u001b[38;5;241m==\u001b[39m \u001b[38;5;124m\"\u001b[39m\u001b[38;5;124mchild_database\u001b[39m\u001b[38;5;124m\"\u001b[39m:\n\u001b[0;32m--> 449\u001b[0m     \u001b[43mprocess_database\u001b[49m\u001b[43m(\u001b[49m\u001b[43mnotion\u001b[49m\u001b[43m,\u001b[49m\u001b[43m \u001b[49m\u001b[43mblock\u001b[49m\u001b[43m[\u001b[49m\u001b[38;5;124;43m\"\u001b[39;49m\u001b[38;5;124;43mid\u001b[39;49m\u001b[38;5;124;43m\"\u001b[39;49m\u001b[43m]\u001b[49m\u001b[43m,\u001b[49m\u001b[43m \u001b[49m\u001b[43moutput_dir\u001b[49m\u001b[43m)\u001b[49m\n",
      "File \u001b[0;32m~/Dropbox/dev/experim/notion-commotion/notion_claude.py:197\u001b[0m, in \u001b[0;36mprocess_database\u001b[0;34m(notion, database_id, output_dir)\u001b[0m\n\u001b[1;32m    194\u001b[0m         database_properties[prop_name] \u001b[38;5;241m=\u001b[39m prop_value\n\u001b[1;32m    196\u001b[0m     \u001b[38;5;66;03m# Process each database item as a page\u001b[39;00m\n\u001b[0;32m--> 197\u001b[0m     \u001b[43mprocess_page_recursively\u001b[49m\u001b[43m(\u001b[49m\u001b[43mnotion\u001b[49m\u001b[43m,\u001b[49m\u001b[43m \u001b[49m\u001b[43mitem_id\u001b[49m\u001b[43m,\u001b[49m\u001b[43m \u001b[49m\u001b[43moutput_dir\u001b[49m\u001b[43m,\u001b[49m\u001b[43m \u001b[49m\u001b[43mdatabase_properties\u001b[49m\u001b[43m)\u001b[49m\n\u001b[1;32m    199\u001b[0m \u001b[38;5;28;01mif\u001b[39;00m \u001b[38;5;129;01mnot\u001b[39;00m response\u001b[38;5;241m.\u001b[39mget(\u001b[38;5;124m\"\u001b[39m\u001b[38;5;124mhas_more\u001b[39m\u001b[38;5;124m\"\u001b[39m, \u001b[38;5;28;01mFalse\u001b[39;00m):\n\u001b[1;32m    200\u001b[0m     \u001b[38;5;28;01mbreak\u001b[39;00m\n",
      "File \u001b[0;32m~/Dropbox/dev/experim/notion-commotion/notion_claude.py:419\u001b[0m, in \u001b[0;36mprocess_page_recursively\u001b[0;34m(notion, page_id, output_dir, database_properties)\u001b[0m\n\u001b[1;32m    417\u001b[0m \u001b[38;5;66;03m# Add database properties if available\u001b[39;00m\n\u001b[1;32m    418\u001b[0m \u001b[38;5;28;01mif\u001b[39;00m database_properties:\n\u001b[0;32m--> 419\u001b[0m     html_content \u001b[38;5;241m+\u001b[39m\u001b[38;5;241m=\u001b[39m \u001b[43mget_database_fields_html\u001b[49m\u001b[43m(\u001b[49m\u001b[43mdatabase_properties\u001b[49m\u001b[43m)\u001b[49m\n\u001b[1;32m    421\u001b[0m html_content \u001b[38;5;241m+\u001b[39m\u001b[38;5;241m=\u001b[39m notion_to_html(blocks, notion, output_dir, page_id)\n\u001b[1;32m    423\u001b[0m \u001b[38;5;66;03m# Create a safe filename\u001b[39;00m\n",
      "File \u001b[0;32m~/Dropbox/dev/experim/notion-commotion/notion_claude.py:360\u001b[0m, in \u001b[0;36mget_database_fields_html\u001b[0;34m(properties)\u001b[0m\n\u001b[1;32m    356\u001b[0m \u001b[38;5;28;01mfor\u001b[39;00m prop_name, prop_value \u001b[38;5;129;01min\u001b[39;00m properties\u001b[38;5;241m.\u001b[39mitems():\n\u001b[1;32m    357\u001b[0m     \u001b[38;5;28;01mif\u001b[39;00m (\n\u001b[1;32m    358\u001b[0m         prop_name\u001b[38;5;241m.\u001b[39mlower() \u001b[38;5;241m!=\u001b[39m \u001b[38;5;124m\"\u001b[39m\u001b[38;5;124mname\u001b[39m\u001b[38;5;124m\"\u001b[39m\n\u001b[1;32m    359\u001b[0m     ):  \u001b[38;5;66;03m# Exclude the 'Name' field as it's already used as the title\u001b[39;00m\n\u001b[0;32m--> 360\u001b[0m         field_value \u001b[38;5;241m=\u001b[39m \u001b[43mformat_property_value\u001b[49m\u001b[43m(\u001b[49m\u001b[43mprop_value\u001b[49m\u001b[43m)\u001b[49m\n\u001b[1;32m    361\u001b[0m         fields_html\u001b[38;5;241m.\u001b[39mappend(\u001b[38;5;124mf\u001b[39m\u001b[38;5;124m\"\u001b[39m\u001b[38;5;124m<p><strong>\u001b[39m\u001b[38;5;132;01m{\u001b[39;00mprop_name\u001b[38;5;132;01m}\u001b[39;00m\u001b[38;5;124m:</strong> \u001b[39m\u001b[38;5;132;01m{\u001b[39;00mfield_value\u001b[38;5;132;01m}\u001b[39;00m\u001b[38;5;124m</p>\u001b[39m\u001b[38;5;124m\"\u001b[39m)\n\u001b[1;32m    362\u001b[0m fields_html\u001b[38;5;241m.\u001b[39mappend(\u001b[38;5;124m\"\u001b[39m\u001b[38;5;124m</div>\u001b[39m\u001b[38;5;124m\"\u001b[39m)\n",
      "File \u001b[0;32m~/Dropbox/dev/experim/notion-commotion/notion_claude.py:367\u001b[0m, in \u001b[0;36mformat_property_value\u001b[0;34m(prop)\u001b[0m\n\u001b[1;32m    366\u001b[0m \u001b[38;5;28;01mdef\u001b[39;00m \u001b[38;5;21mformat_property_value\u001b[39m(prop: \u001b[38;5;28mdict\u001b[39m[\u001b[38;5;28mstr\u001b[39m, Any]) \u001b[38;5;241m-\u001b[39m\u001b[38;5;241m>\u001b[39m \u001b[38;5;28mstr\u001b[39m:\n\u001b[0;32m--> 367\u001b[0m     prop_type \u001b[38;5;241m=\u001b[39m \u001b[43mprop\u001b[49m\u001b[43m[\u001b[49m\u001b[38;5;124;43m\"\u001b[39;49m\u001b[38;5;124;43mtype\u001b[39;49m\u001b[38;5;124;43m\"\u001b[39;49m\u001b[43m]\u001b[49m\n\u001b[1;32m    368\u001b[0m     \u001b[38;5;28;01mif\u001b[39;00m prop_type \u001b[38;5;241m==\u001b[39m \u001b[38;5;124m\"\u001b[39m\u001b[38;5;124mrich_text\u001b[39m\u001b[38;5;124m\"\u001b[39m:\n\u001b[1;32m    369\u001b[0m         \u001b[38;5;28;01mreturn\u001b[39;00m rich_text_to_html(prop[\u001b[38;5;124m\"\u001b[39m\u001b[38;5;124mrich_text\u001b[39m\u001b[38;5;124m\"\u001b[39m])\n",
      "\u001b[0;31mTypeError\u001b[0m: string indices must be integers, not 'str'"
     ]
    }
   ],
   "source": [
    "OUTPUT_DIR = get_output_dir()\n",
    "\n",
    "process_page_recursively(notion, FRONTPAGE_NOTION_ID, OUTPUT_DIR)"
   ]
  }
 ],
 "metadata": {
  "kernelspec": {
   "display_name": "experim__wordpress_to_notion",
   "language": "python",
   "name": "python3"
  },
  "language_info": {
   "codemirror_mode": {
    "name": "ipython",
    "version": 3
   },
   "file_extension": ".py",
   "mimetype": "text/x-python",
   "name": "python",
   "nbconvert_exporter": "python",
   "pygments_lexer": "ipython3",
   "version": "3.12.3"
  }
 },
 "nbformat": 4,
 "nbformat_minor": 2
}
