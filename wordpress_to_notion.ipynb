{
 "cells": [
  {
   "cell_type": "code",
   "execution_count": null,
   "metadata": {},
   "outputs": [],
   "source": [
    "%load_ext autoreload\n",
    "%autoreload 2\n",
    "from IPython.display import display\n",
    "from notion_client import Client\n",
    "from pprint import pprint\n",
    "import xml.etree.ElementTree as ET\n",
    "\n",
    "from notion_api import *\n",
    "from _secrets import NOTION_API_KEY\n",
    "from wordpress_xml import extract_posts, Posts, write_posts\n",
    "\n",
    "WORDPRESS_XML_FILEN = \"/Users/greg/Desktop/gregdetre.com www website/gregdetre.wordpress.com-2024-08-16-13_30_40/gregdetre.wordpress.2024-08-16.000.xml\"\n",
    "# WORDPRESS_XML_FILEN = \"/Users/greg/Desktop/gregdetre.com www website/gregdetre.wordpress.com-2024-08-16-13_30_40/truncated.xml\"\n",
    "WRITE_DIRN = \"/Users/greg/Desktop/gregdetre.com www website/240818_1700 exported html and json\"\n",
    "NOTION_DATABASE_URL = 'https://www.notion.so/glow-flavor-ed2b/8866d83090bf43e79e61c42aaa6a8639?v=03507c8a53f04221b6f733fd990c2615'\n",
    "\n",
    "tree = ET.parse(WORDPRESS_XML_FILEN)\n",
    "\n",
    "notion = Client(auth=NOTION_API_KEY)"
   ]
  },
  {
   "cell_type": "code",
   "execution_count": null,
   "metadata": {},
   "outputs": [],
   "source": [
    "wp_posts = extract_posts(tree, verbose=0)"
   ]
  },
  {
   "cell_type": "code",
   "execution_count": null,
   "metadata": {},
   "outputs": [],
   "source": [
    "html_filens, json_filens = write_posts(wp_posts, WRITE_DIRN)"
   ]
  },
  {
   "cell_type": "code",
   "execution_count": null,
   "metadata": {},
   "outputs": [],
   "source": [
    "# page_id = get_id_from_url(\n",
    "#     # 'https://www.notion.so/glow-flavor-ed2b/Import-Aug-18-2024-part-1-a4f4f11c93ca4f94bc4787765f70771a'\n",
    "#     'https://www.notion.so/glow-flavor-ed2b/8866d83090bf43e79e61c42aaa6a8639?v=03507c8a53f04221b6f733fd990c2615'\n",
    "#     )\n",
    "# page = notion.pages.retrieve(page_id=page_id)\n",
    "# # page = notion.pages.retrieve(page_id='27b05f38fcff46459e432d9c3a3f0069')\n",
    "# # page"
   ]
  },
  {
   "cell_type": "code",
   "execution_count": null,
   "metadata": {},
   "outputs": [],
   "source": [
    "# notion_title_from_id = get_child_pages(notion, page_id)\n",
    "# len(notion_title_from_id)\n",
    "pages = get_database_pages(notion, NOTION_DATABASE_URL)\n",
    "print(f\"{len(pages)=}\")\n",
    "notion_title_from_id = {page['id']: page['properties']['Name']['title'][0]['text']['content'] for page in pages}\n",
    "# notion_title_from_id"
   ]
  },
  {
   "cell_type": "code",
   "execution_count": null,
   "metadata": {},
   "outputs": [],
   "source": [
    "def match_wp_posts_notion_ids(\n",
    "    notion: Client, wp_posts: Posts, notion_title_from_id: dict[str, str], verbose: int = 0\n",
    "):\n",
    "    notion_id_from_title = {no_title: no_id for no_id, no_title in notion_title_from_id.items()}\n",
    "    assert len(notion_id_from_title) == len(notion_title_from_id)\n",
    "    no_id_from_wp_id = {}\n",
    "    for post_id, post_data in wp_posts.items():\n",
    "        wp_id = post_id\n",
    "        wp_title = post_data[\"title\"]\n",
    "        no_id = notion_id_from_title.get(wp_title)\n",
    "        if no_id is None:\n",
    "            if verbose >= 1:\n",
    "                print(f\"Skipping {wp_id} {wp_title}\")\n",
    "            continue\n",
    "        if verbose >= 2:\n",
    "            print(\"Found:\", no_id, wp_id, wp_title)    \n",
    "        no_id_from_wp_id[wp_id] = no_id\n",
    "    return no_id_from_wp_id\n",
    "\n",
    "no_id_from_wp_id = match_wp_posts_notion_ids(notion, wp_posts, notion_title_from_id, verbose=1)"
   ]
  },
  {
   "cell_type": "code",
   "execution_count": null,
   "metadata": {},
   "outputs": [],
   "source": [
    "def update_notion_properties_from_wordpress(\n",
    "    notion: Client, wp_posts: Posts, no_id_from_wp_id: dict[str, str], verbose: int = 0\n",
    "):\n",
    "    def package_text(txt: Optional[str]):\n",
    "        if txt is None:\n",
    "            txt = ''\n",
    "        return {\"rich_text\": [{\"type\": \"text\", \"text\": {\"content\":txt}}]}\n",
    "    \n",
    "    def package_date(dt: str):\n",
    "        return {\"date\": {\"start\": dt}}\n",
    "    \n",
    "    def package_multi_select(items: list[str]):\n",
    "        return {\"multi_select\": [{\"name\": x} for x in items]}\n",
    "\n",
    "    for wp_id, no_id in no_id_from_wp_id.items():\n",
    "        # print(wp_id)\n",
    "        post_data = dict(wp_posts[wp_id]) # so that it's a copy\n",
    "        no_title = post_data[\"title\"]\n",
    "        # e.g. \"Tags\": {\"multi_select\": [{\"name\": \"Tag1\"}, {\"name\": \"Tag2\"}]},\n",
    "        del post_data[\"title\"]\n",
    "        del post_data[\"content\"]\n",
    "        post_data['categories'] = package_multi_select(post_data['categories'])\n",
    "        post_data['tags'] = package_multi_select(post_data['tags'])\n",
    "        post_data['post_date'] = package_date(post_data['post_date'])\n",
    "        post_data['post_modified'] = package_date(post_data['post_modified'])\n",
    "        post_data['status'] = package_text(post_data['status'])\n",
    "        post_data['excerpt'] = package_text(post_data['excerpt'])\n",
    "        post_data['post_type'] = package_text(post_data['post_type'])\n",
    "        post_data['slug'] = package_text(post_data['slug'])\n",
    "\n",
    "        try:\n",
    "            notion.pages.update(\n",
    "                page_id=no_id,\n",
    "                properties=post_data\n",
    "            )\n",
    "            if verbose >= 2:\n",
    "                print(f\"Updated {no_id} {no_title}\")\n",
    "        except:\n",
    "            if verbose >= 1:\n",
    "                print(f\"Failed {no_id} {no_title}\")\n",
    "            # raise\n",
    "    \n",
    "update_notion_properties_from_wordpress(notion, wp_posts, no_id_from_wp_id, verbose=2)"
   ]
  }
 ],
 "metadata": {
  "kernelspec": {
   "display_name": "experim__wordpress_to_notion",
   "language": "python",
   "name": "python3"
  },
  "language_info": {
   "codemirror_mode": {
    "name": "ipython",
    "version": 3
   },
   "file_extension": ".py",
   "mimetype": "text/x-python",
   "name": "python",
   "nbconvert_exporter": "python",
   "pygments_lexer": "ipython3",
   "version": "3.12.3"
  }
 },
 "nbformat": 4,
 "nbformat_minor": 2
}
