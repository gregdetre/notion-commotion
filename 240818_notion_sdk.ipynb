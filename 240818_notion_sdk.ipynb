{
 "cells": [
  {
   "cell_type": "code",
   "execution_count": null,
   "metadata": {},
   "outputs": [],
   "source": [
    "# based on 231106_python_spideryarn2/notion_sdk.ipynb\n",
    "\n",
    "%load_ext autoreload\n",
    "%autoreload 2\n",
    "import datetime\n",
    "from IPython.display import display\n",
    "import pendulum\n",
    "from pprint import pprint\n",
    "\n",
    "from _secrets import NOTION_API_KEY\n",
    "from gdutils.dt import dt_str\n",
    "from notion_api import *\n",
    "\n",
    "# based on https://github.com/ramnes/notion-sdk-py\n",
    "notion = Client(auth=NOTION_API_KEY)\n",
    "\n",
    "NOTION_PAGE_URL = 'https://www.notion.so/Hello-world-Spideryarn2-27b05f38fcff46459e432d9c3a3f0069'\n",
    "NOTION_DATABASE_URL = 'https://www.notion.so/glow-flavor-ed2b/76d6ea88ee0f4060b3d811224b708d12?v=77d9df6157a04e88a108537f87a1e361&pvs=4'"
   ]
  },
  {
   "cell_type": "code",
   "execution_count": null,
   "metadata": {},
   "outputs": [],
   "source": [
    "database_id = get_id_from_url(NOTION_DATABASE_URL)\n",
    "database_id\n",
    "# page_id = get_id_from_url(NOTION_PAGE_URL)\n",
    "# page = notion.pages.retrieve(page_id=page_id)\n",
    "# print(page[\"properties\"][\"title\"][\"title\"][0][\"text\"][\"content\"])\n",
    "\n",
    "# database = notion.databases.query(database_id=page_id)\n",
    "# results = notion.search(filter={\"value\": \"page\", \"property\": \"object\"})\n"
   ]
  }
 ],
 "metadata": {
  "kernelspec": {
   "display_name": "experim__wordpress_to_notion",
   "language": "python",
   "name": "python3"
  },
  "language_info": {
   "codemirror_mode": {
    "name": "ipython",
    "version": 3
   },
   "file_extension": ".py",
   "mimetype": "text/x-python",
   "name": "python",
   "nbconvert_exporter": "python",
   "pygments_lexer": "ipython3",
   "version": "3.12.3"
  }
 },
 "nbformat": 4,
 "nbformat_minor": 2
}
