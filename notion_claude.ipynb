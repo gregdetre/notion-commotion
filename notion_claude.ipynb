{
 "cells": [
  {
   "cell_type": "code",
   "execution_count": null,
   "metadata": {},
   "outputs": [],
   "source": [
    "%load_ext autoreload\n",
    "%autoreload 2\n",
    "from IPython.display import display\n",
    "import os\n",
    "from pprint import pprint\n",
    "import sys\n",
    "\n",
    "# from notion_api import get_blocks, get_id_from_url\n",
    "from notion_api import get_id_from_url\n",
    "from notion_claude import *\n",
    "from _secrets import NOTION_API_KEY\n",
    "\n",
    "# https://claude.ai/chat/dd788040-003a-4ca6-8569-7d6588e4523e\n",
    "\n",
    "FRONTPAGE_NOTION_URL = (\n",
    "    \"https://www.notion.so/gregdetre-www/Greg-Detre-23436b4ed78942aa8b4932c0b12ebe5d\"\n",
    ")\n",
    "FRONTPAGE_SITE_URL = (\n",
    "    \"https://gregdetre-www.notion.site/Greg-Detre-23436b4ed78942aa8b4932c0b12ebe5d\"\n",
    ")\n",
    "FRONTPAGE_NOTION_ID = get_id_from_url(FRONTPAGE_NOTION_URL)\n",
    "\n",
    "DATABASE_NOTION_URL = (\n",
    "    \"https://www.notion.so/gregdetre-www/Blog-cbadf8ca01994be28e4d1164ce787189\"\n",
    ")\n",
    "DATABASE_NOTION_ID = get_id_from_url(DATABASE_NOTION_URL)\n",
    "OUTPUT_DIR = \"./out/\"\n",
    "\n",
    "\n",
    "notion = Client(auth=NOTION_API_KEY)\n",
    "blocks = get_blocks(notion, FRONTPAGE_NOTION_ID) # , verbose=1)"
   ]
  },
  {
   "cell_type": "code",
   "execution_count": null,
   "metadata": {},
   "outputs": [],
   "source": [
    "os.makedirs(OUTPUT_DIR, exist_ok=True)\n",
    "\n",
    "process_page_recursively(notion, FRONTPAGE_NOTION_ID, OUTPUT_DIR)"
   ]
  }
 ],
 "metadata": {
  "kernelspec": {
   "display_name": "experim__wordpress_to_notion",
   "language": "python",
   "name": "python3"
  },
  "language_info": {
   "codemirror_mode": {
    "name": "ipython",
    "version": 3
   },
   "file_extension": ".py",
   "mimetype": "text/x-python",
   "name": "python",
   "nbconvert_exporter": "python",
   "pygments_lexer": "ipython3",
   "version": "3.12.3"
  }
 },
 "nbformat": 4,
 "nbformat_minor": 2
}
