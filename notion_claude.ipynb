{
 "cells": [
  {
   "cell_type": "code",
   "execution_count": 3,
   "metadata": {},
   "outputs": [
    {
     "name": "stdout",
     "output_type": "stream",
     "text": [
      "The autoreload extension is already loaded. To reload it, use:\n",
      "  %reload_ext autoreload\n"
     ]
    },
    {
     "ename": "APIResponseError",
     "evalue": "Could not find block with ID: 1f8d8bbf-67b2-40fa-ad0d-d2075dff3bb0. Make sure the relevant pages and databases are shared with your integration.",
     "output_type": "error",
     "traceback": [
      "\u001b[0;31m---------------------------------------------------------------------------\u001b[0m",
      "\u001b[0;31mHTTPStatusError\u001b[0m                           Traceback (most recent call last)",
      "File \u001b[0;32m~/.venvs/experim__notion-commotion/lib/python3.12/site-packages/notion_client/client.py:118\u001b[0m, in \u001b[0;36mBaseClient._parse_response\u001b[0;34m(self, response)\u001b[0m\n\u001b[1;32m    117\u001b[0m \u001b[38;5;28;01mtry\u001b[39;00m:\n\u001b[0;32m--> 118\u001b[0m     \u001b[43mresponse\u001b[49m\u001b[38;5;241;43m.\u001b[39;49m\u001b[43mraise_for_status\u001b[49m\u001b[43m(\u001b[49m\u001b[43m)\u001b[49m\n\u001b[1;32m    119\u001b[0m \u001b[38;5;28;01mexcept\u001b[39;00m httpx\u001b[38;5;241m.\u001b[39mHTTPStatusError \u001b[38;5;28;01mas\u001b[39;00m error:\n",
      "File \u001b[0;32m~/.venvs/experim__notion-commotion/lib/python3.12/site-packages/httpx/_models.py:763\u001b[0m, in \u001b[0;36mResponse.raise_for_status\u001b[0;34m(self)\u001b[0m\n\u001b[1;32m    762\u001b[0m message \u001b[38;5;241m=\u001b[39m message\u001b[38;5;241m.\u001b[39mformat(\u001b[38;5;28mself\u001b[39m, error_type\u001b[38;5;241m=\u001b[39merror_type)\n\u001b[0;32m--> 763\u001b[0m \u001b[38;5;28;01mraise\u001b[39;00m HTTPStatusError(message, request\u001b[38;5;241m=\u001b[39mrequest, response\u001b[38;5;241m=\u001b[39m\u001b[38;5;28mself\u001b[39m)\n",
      "\u001b[0;31mHTTPStatusError\u001b[0m: Client error '404 Not Found' for url 'https://api.notion.com/v1/blocks/1f8d8bbf67b240faad0dd2075dff3bb0/children?page_size=100'\nFor more information check: https://developer.mozilla.org/en-US/docs/Web/HTTP/Status/404",
      "\nDuring handling of the above exception, another exception occurred:\n",
      "\u001b[0;31mAPIResponseError\u001b[0m                          Traceback (most recent call last)",
      "Cell \u001b[0;32mIn[3], line 35\u001b[0m\n\u001b[1;32m     32\u001b[0m OUTPUT_DIR \u001b[38;5;241m=\u001b[39m Path(\u001b[38;5;124m'\u001b[39m\u001b[38;5;124mout\u001b[39m\u001b[38;5;124m'\u001b[39m, dt_now)\n\u001b[1;32m     34\u001b[0m notion \u001b[38;5;241m=\u001b[39m Client(auth\u001b[38;5;241m=\u001b[39mNOTION_API_KEY)\n\u001b[0;32m---> 35\u001b[0m blocks \u001b[38;5;241m=\u001b[39m \u001b[43mget_blocks\u001b[49m\u001b[43m(\u001b[49m\u001b[43mnotion\u001b[49m\u001b[43m,\u001b[49m\u001b[43m \u001b[49m\u001b[43mFRONTPAGE_NOTION_ID\u001b[49m\u001b[43m)\u001b[49m \u001b[38;5;66;03m# , verbose=1)\u001b[39;00m\n",
      "File \u001b[0;32m~/Dropbox/dev/experim/notion-commotion/notion_claude.py:105\u001b[0m, in \u001b[0;36mget_blocks\u001b[0;34m(notion, page_id)\u001b[0m\n\u001b[1;32m    102\u001b[0m start_cursor \u001b[38;5;241m=\u001b[39m \u001b[38;5;28;01mNone\u001b[39;00m\n\u001b[1;32m    104\u001b[0m \u001b[38;5;28;01mwhile\u001b[39;00m \u001b[38;5;28;01mTrue\u001b[39;00m:\n\u001b[0;32m--> 105\u001b[0m     response \u001b[38;5;241m=\u001b[39m \u001b[43mnotion\u001b[49m\u001b[38;5;241;43m.\u001b[39;49m\u001b[43mblocks\u001b[49m\u001b[38;5;241;43m.\u001b[39;49m\u001b[43mchildren\u001b[49m\u001b[38;5;241;43m.\u001b[39;49m\u001b[43mlist\u001b[49m\u001b[43m(\u001b[49m\n\u001b[1;32m    106\u001b[0m \u001b[43m        \u001b[49m\u001b[43mblock_id\u001b[49m\u001b[38;5;241;43m=\u001b[39;49m\u001b[43mpage_id\u001b[49m\u001b[43m,\u001b[49m\n\u001b[1;32m    107\u001b[0m \u001b[43m        \u001b[49m\u001b[43mstart_cursor\u001b[49m\u001b[38;5;241;43m=\u001b[39;49m\u001b[43mstart_cursor\u001b[49m\u001b[43m,\u001b[49m\n\u001b[1;32m    108\u001b[0m \u001b[43m        \u001b[49m\u001b[43mpage_size\u001b[49m\u001b[38;5;241;43m=\u001b[39;49m\u001b[38;5;241;43m100\u001b[39;49m\u001b[43m,\u001b[49m\u001b[43m  \u001b[49m\u001b[38;5;66;43;03m# You can adjust this value\u001b[39;49;00m\n\u001b[1;32m    109\u001b[0m \u001b[43m    \u001b[49m\u001b[43m)\u001b[49m\n\u001b[1;32m    111\u001b[0m     blocks \u001b[38;5;241m=\u001b[39m response[\u001b[38;5;124m\"\u001b[39m\u001b[38;5;124mresults\u001b[39m\u001b[38;5;124m\"\u001b[39m]\n\u001b[1;32m    112\u001b[0m     all_blocks\u001b[38;5;241m.\u001b[39mextend(blocks)\n",
      "File \u001b[0;32m~/.venvs/experim__notion-commotion/lib/python3.12/site-packages/notion_client/api_endpoints.py:35\u001b[0m, in \u001b[0;36mBlocksChildrenEndpoint.list\u001b[0;34m(self, block_id, **kwargs)\u001b[0m\n\u001b[1;32m     30\u001b[0m \u001b[38;5;28;01mdef\u001b[39;00m \u001b[38;5;21mlist\u001b[39m(\u001b[38;5;28mself\u001b[39m, block_id: \u001b[38;5;28mstr\u001b[39m, \u001b[38;5;241m*\u001b[39m\u001b[38;5;241m*\u001b[39mkwargs: Any) \u001b[38;5;241m-\u001b[39m\u001b[38;5;241m>\u001b[39m SyncAsync[Any]:\n\u001b[1;32m     31\u001b[0m \u001b[38;5;250m    \u001b[39m\u001b[38;5;124;03m\"\"\"Return a paginated array of child [block objects](https://developers.notion.com/reference/block) contained in the block.\u001b[39;00m\n\u001b[1;32m     32\u001b[0m \n\u001b[1;32m     33\u001b[0m \u001b[38;5;124;03m    *[🔗 Endpoint documentation](https://developers.notion.com/reference/get-block-children)*\u001b[39;00m\n\u001b[1;32m     34\u001b[0m \u001b[38;5;124;03m    \"\"\"\u001b[39;00m  \u001b[38;5;66;03m# noqa: E501\u001b[39;00m\n\u001b[0;32m---> 35\u001b[0m     \u001b[38;5;28;01mreturn\u001b[39;00m \u001b[38;5;28;43mself\u001b[39;49m\u001b[38;5;241;43m.\u001b[39;49m\u001b[43mparent\u001b[49m\u001b[38;5;241;43m.\u001b[39;49m\u001b[43mrequest\u001b[49m\u001b[43m(\u001b[49m\n\u001b[1;32m     36\u001b[0m \u001b[43m        \u001b[49m\u001b[43mpath\u001b[49m\u001b[38;5;241;43m=\u001b[39;49m\u001b[38;5;124;43mf\u001b[39;49m\u001b[38;5;124;43m\"\u001b[39;49m\u001b[38;5;124;43mblocks/\u001b[39;49m\u001b[38;5;132;43;01m{\u001b[39;49;00m\u001b[43mblock_id\u001b[49m\u001b[38;5;132;43;01m}\u001b[39;49;00m\u001b[38;5;124;43m/children\u001b[39;49m\u001b[38;5;124;43m\"\u001b[39;49m\u001b[43m,\u001b[49m\n\u001b[1;32m     37\u001b[0m \u001b[43m        \u001b[49m\u001b[43mmethod\u001b[49m\u001b[38;5;241;43m=\u001b[39;49m\u001b[38;5;124;43m\"\u001b[39;49m\u001b[38;5;124;43mGET\u001b[39;49m\u001b[38;5;124;43m\"\u001b[39;49m\u001b[43m,\u001b[49m\n\u001b[1;32m     38\u001b[0m \u001b[43m        \u001b[49m\u001b[43mquery\u001b[49m\u001b[38;5;241;43m=\u001b[39;49m\u001b[43mpick\u001b[49m\u001b[43m(\u001b[49m\u001b[43mkwargs\u001b[49m\u001b[43m,\u001b[49m\u001b[43m \u001b[49m\u001b[38;5;124;43m\"\u001b[39;49m\u001b[38;5;124;43mstart_cursor\u001b[39;49m\u001b[38;5;124;43m\"\u001b[39;49m\u001b[43m,\u001b[49m\u001b[43m \u001b[49m\u001b[38;5;124;43m\"\u001b[39;49m\u001b[38;5;124;43mpage_size\u001b[39;49m\u001b[38;5;124;43m\"\u001b[39;49m\u001b[43m)\u001b[49m\u001b[43m,\u001b[49m\n\u001b[1;32m     39\u001b[0m \u001b[43m        \u001b[49m\u001b[43mauth\u001b[49m\u001b[38;5;241;43m=\u001b[39;49m\u001b[43mkwargs\u001b[49m\u001b[38;5;241;43m.\u001b[39;49m\u001b[43mget\u001b[49m\u001b[43m(\u001b[49m\u001b[38;5;124;43m\"\u001b[39;49m\u001b[38;5;124;43mauth\u001b[39;49m\u001b[38;5;124;43m\"\u001b[39;49m\u001b[43m)\u001b[49m\u001b[43m,\u001b[49m\n\u001b[1;32m     40\u001b[0m \u001b[43m    \u001b[49m\u001b[43m)\u001b[49m\n",
      "File \u001b[0;32m~/.venvs/experim__notion-commotion/lib/python3.12/site-packages/notion_client/client.py:194\u001b[0m, in \u001b[0;36mClient.request\u001b[0;34m(self, path, method, query, body, auth)\u001b[0m\n\u001b[1;32m    192\u001b[0m \u001b[38;5;28;01mexcept\u001b[39;00m httpx\u001b[38;5;241m.\u001b[39mTimeoutException:\n\u001b[1;32m    193\u001b[0m     \u001b[38;5;28;01mraise\u001b[39;00m RequestTimeoutError()\n\u001b[0;32m--> 194\u001b[0m \u001b[38;5;28;01mreturn\u001b[39;00m \u001b[38;5;28;43mself\u001b[39;49m\u001b[38;5;241;43m.\u001b[39;49m\u001b[43m_parse_response\u001b[49m\u001b[43m(\u001b[49m\u001b[43mresponse\u001b[49m\u001b[43m)\u001b[49m\n",
      "File \u001b[0;32m~/.venvs/experim__notion-commotion/lib/python3.12/site-packages/notion_client/client.py:126\u001b[0m, in \u001b[0;36mBaseClient._parse_response\u001b[0;34m(self, response)\u001b[0m\n\u001b[1;32m    124\u001b[0m         code \u001b[38;5;241m=\u001b[39m \u001b[38;5;28;01mNone\u001b[39;00m\n\u001b[1;32m    125\u001b[0m     \u001b[38;5;28;01mif\u001b[39;00m code \u001b[38;5;129;01mand\u001b[39;00m is_api_error_code(code):\n\u001b[0;32m--> 126\u001b[0m         \u001b[38;5;28;01mraise\u001b[39;00m APIResponseError(response, body[\u001b[38;5;124m\"\u001b[39m\u001b[38;5;124mmessage\u001b[39m\u001b[38;5;124m\"\u001b[39m], code)\n\u001b[1;32m    127\u001b[0m     \u001b[38;5;28;01mraise\u001b[39;00m HTTPResponseError(error\u001b[38;5;241m.\u001b[39mresponse)\n\u001b[1;32m    129\u001b[0m body \u001b[38;5;241m=\u001b[39m response\u001b[38;5;241m.\u001b[39mjson()\n",
      "\u001b[0;31mAPIResponseError\u001b[0m: Could not find block with ID: 1f8d8bbf-67b2-40fa-ad0d-d2075dff3bb0. Make sure the relevant pages and databases are shared with your integration."
     ]
    }
   ],
   "source": [
    "%load_ext autoreload\n",
    "%autoreload 2\n",
    "from IPython.display import display\n",
    "import os\n",
    "from pathlib import Path\n",
    "from pprint import pprint\n",
    "import sys\n",
    "\n",
    "from gdutils.dt import dt_str\n",
    "# from notion_api import get_blocks, get_id_from_url\n",
    "from notion_api import get_id_from_url\n",
    "from notion_claude import *\n",
    "from _secrets import NOTION_API_KEY\n",
    "\n",
    "# https://claude.ai/chat/dd788040-003a-4ca6-8569-7d6588e4523e\n",
    "\n",
    "FRONTPAGE_NOTION_URL = (\n",
    "    # \"https://www.notion.so/gregdetre-www/Greg-Detre-23436b4ed78942aa8b4932c0b12ebe5d\"\n",
    "    \"https://www.notion.so/gregdetre-www/TEST-site-UNSHARED-1f8d8bbf67b240faad0dd2075dff3bb0\"\n",
    ")\n",
    "# FRONTPAGE_SITE_URL = (\n",
    "#     \"https://gregdetre-www.notion.site/Greg-Detre-23436b4ed78942aa8b4932c0b12ebe5d\"\n",
    "# )\n",
    "FRONTPAGE_NOTION_ID = get_id_from_url(FRONTPAGE_NOTION_URL)\n",
    "\n",
    "DATABASE_NOTION_URL = (\n",
    "    # \"https://www.notion.so/gregdetre-www/Blog-cbadf8ca01994be28e4d1164ce787189\"\n",
    "    \"https://www.notion.so/gregdetre-www/TEST-database-30b6ac5e03c449dc9ea3a09c01c42611\"\n",
    ")\n",
    "DATABASE_NOTION_ID = get_id_from_url(DATABASE_NOTION_URL)\n",
    "dt_now = dt_str()\n",
    "OUTPUT_DIR = Path('out', dt_now)\n",
    "\n",
    "notion = Client(auth=NOTION_API_KEY)\n",
    "blocks = get_blocks(notion, FRONTPAGE_NOTION_ID) # , verbose=1)"
   ]
  },
  {
   "cell_type": "code",
   "execution_count": null,
   "metadata": {},
   "outputs": [],
   "source": [
    "os.makedirs(OUTPUT_DIR, exist_ok=True)\n",
    "\n",
    "process_page_recursively(notion, FRONTPAGE_NOTION_ID, OUTPUT_DIR)"
   ]
  }
 ],
 "metadata": {
  "kernelspec": {
   "display_name": "experim__wordpress_to_notion",
   "language": "python",
   "name": "python3"
  },
  "language_info": {
   "codemirror_mode": {
    "name": "ipython",
    "version": 3
   },
   "file_extension": ".py",
   "mimetype": "text/x-python",
   "name": "python",
   "nbconvert_exporter": "python",
   "pygments_lexer": "ipython3",
   "version": "3.12.3"
  }
 },
 "nbformat": 4,
 "nbformat_minor": 2
}
